{
 "cells": [
  {
   "cell_type": "markdown",
   "metadata": {
    "id": "jxgT4r6ovuvd"
   },
   "source": [
    "#Bài tập 1: Thao tác với ma trận  \n",
    "**Lý thuyết**:  \n",
    "NumPy cung cấp các công cụ mạnh mẽ để thao tác ma trận, bao gồm tính toán các định thức, tìm nghịch đảo và tính toán các giá trị riêng và vectơ riêng.\n",
    "  \n",
    "**Đề bài**:  \n",
    "Tạo ma trận 5x5 ngẫu nhiên và thực hiện các thao tác sau:  \n",
    "* Tính định thức (determinant) của ma trận.  \n",
    "* Tìm nghịch đảo (inverse) của ma trận.  \n",
    "* Tính các giá trị riêng (eigent value) và vectơ riêng (eigent vector) của ma trận.   \n",
    "(Phần này sẽ liên quan tới đại số tuyến tính, mọi người có thể tự tìm hiểu để hiểu chi tiết về các khái niệm trên)\n",
    "\n",
    "<details>\n",
    "  <summary>Hint</summary>\n",
    "\n",
    "```python\n",
    "import numpy as np\n",
    "\n",
    "# Generate a random 5x5 matrix\n",
    "matrix = np.random.rand(5, 5)\n",
    "\n",
    "# Compute determinant\n",
    "det = np.linalg.det(matrix)\n",
    "\n",
    "# Find inverse\n",
    "inverse = np.linalg.inv(matrix)\n",
    "\n",
    "# Calculate eigenvalues and eigenvectors\n",
    "eigenvalues, eigenvectors = np.linalg.eig(matrix)\n",
    "\n",
    "```\n",
    "</details>"
   ]
  },
  {
   "cell_type": "code",
   "execution_count": 27,
   "metadata": {
    "executionInfo": {
     "elapsed": 2,
     "status": "ok",
     "timestamp": 1711943184294,
     "user": {
      "displayName": "Nha Nguyen",
      "userId": "05581690424976052134"
     },
     "user_tz": -420
    },
    "id": "-SEd8zd9tBN8"
   },
   "outputs": [
    {
     "name": "stdout",
     "output_type": "stream",
     "text": [
      "Ma trận 5x5 ngẫu nhiên: \n",
      "[[0.26544227 0.11830351 0.74209125 0.57345972 0.06517211]\n",
      " [0.52048291 0.15763218 0.97940753 0.92299931 0.65384081]\n",
      " [0.95312841 0.76286702 0.54264763 0.70117039 0.55875137]\n",
      " [0.11380922 0.40946318 0.84291253 0.01947167 0.27947955]\n",
      " [0.48402718 0.95565516 0.57701467 0.6863544  0.93818395]]\n",
      "Định thức (determinant) của ma trận: \n",
      "-0.1350164909197484\n",
      "Nghịch đảo (inverse) của ma trận: [[-1.43816417  0.65288923  1.84377479  0.39611483 -1.57120053]\n",
      " [ 1.5583192  -1.83329909 -0.04019378 -0.04119016  1.20562386]\n",
      " [ 0.22062308  0.24926456 -0.09653419  1.0736394  -0.45138212]\n",
      " [ 2.0875787  -0.43964476 -0.6800679  -1.60407393  1.04425205]\n",
      " [-2.50827871  1.69892952 -0.35340241  0.35077425  0.16208996]]\n",
      "Giá trị riêng (eigent value) của ma trận: [ 2.7963258 +0.j          0.51982295+0.j         -0.24761496+0.j\n",
      " -0.57257804+0.21741979j -0.57257804-0.21741979j]\n",
      "Vectơ riêng (eigent vector của ma trận: [[-0.25540342+0.j         -0.50904471+0.j         -0.35756194+0.j\n",
      "   0.00161349-0.25547088j  0.00161349+0.25547088j]\n",
      " [-0.4897549 +0.j          0.05602946+0.j          0.52763551+0.j\n",
      "   0.05337953-0.44229174j  0.05337953+0.44229174j]\n",
      " [-0.51179936+0.j         -0.24213896+0.j         -0.21977809+0.j\n",
      "  -0.39694743+0.34161949j -0.39694743-0.34161949j]\n",
      " [-0.29713043+0.j         -0.01765586+0.j          0.55130623+0.j\n",
      "   0.6191202 +0.j          0.6191202 -0.j        ]\n",
      " [-0.58709808+0.j          0.82388784+0.j         -0.49143592+0.j\n",
      "  -0.19321111+0.20334498j -0.19321111-0.20334498j]]\n"
     ]
    }
   ],
   "source": [
    "# Your code here\n",
    "import numpy as np\n",
    "\n",
    "a = np.random.rand(5,5)\n",
    "print(f\"Ma trận 5x5 ngẫu nhiên: \\n{a}\")\n",
    "print(f\"Định thức (determinant) của ma trận: \\n{np.linalg.det(a)}\")\n",
    "print(f\"Nghịch đảo (inverse) của ma trận: {np.linalg.inv(a)}\")\n",
    "eigenvalues, eigenvectors = np.linalg.eig(a)\n",
    "print(f\"Giá trị riêng (eigent value) của ma trận: {eigenvalues}\")\n",
    "print(f\"Vectơ riêng (eigent vector của ma trận: {eigenvectors}\")"
   ]
  },
  {
   "cell_type": "markdown",
   "metadata": {
    "id": "j5y16Eqkxd_o"
   },
   "source": [
    "# Bài tập 2: Optimization\n",
    "**Lý thuyết:**  \n",
    "Gradient descent là một thuật toán tối ưu hóa được sử dụng để cực tiểu hóa hàm bằng cách di chuyển lặp đi lặp lại theo hướng dốc xuống.\n",
    "\n",
    "**Đề bài:**  \n",
    "Triển khai gradient descent sử dụng NumPy để tối ưu hàm số sau:\n",
    " $$ f(x) = x^2 + 5 \\sin(x) $$\n",
    "<details>\n",
    "  <summary>Hint</summary>\n",
    "\n",
    "```python\n",
    "import numpy as np\n",
    "\n",
    "def gradient_descent(x, learning_rate, iterations):\n",
    "    for _ in range(iterations):\n",
    "        gradient = 2*x + 5*np.cos(x)  # Đạo hàm riêng theo x\n",
    "        x = x - learning_rate * gradient # Cập nhật tham số\n",
    "    return x\n",
    "\n",
    "# Khởi tạo các hyperparameters\n",
    "x_initial = 5  # Input đầu vào\n",
    "learning_rate = 0.1 # Tốc độ học\n",
    "iterations = 100 # Số lần lặp\n",
    "\n",
    "# Run gradient descent\n",
    "minima = gradient_descent(x_initial, learning_rate, iterations)\n",
    "```\n",
    "\n",
    "</details>"
   ]
  },
  {
   "cell_type": "code",
   "execution_count": 30,
   "metadata": {
    "executionInfo": {
     "elapsed": 2,
     "status": "ok",
     "timestamp": 1711943686064,
     "user": {
      "displayName": "Nha Nguyen",
      "userId": "05581690424976052134"
     },
     "user_tz": -420
    },
    "id": "s3Q3kOnuwxxW"
   },
   "outputs": [
    {
     "name": "stdout",
     "output_type": "stream",
     "text": [
      "Gradient_descent: -1.110510503581112\n"
     ]
    }
   ],
   "source": [
    "# Your code here\n",
    "\n",
    "import numpy as np\n",
    "\n",
    "def gradient_descent(x, learning_rate, iterations):\n",
    "    for _ in range(iterations):\n",
    "        derivative = 2*x + 5*np.cos(x)  \n",
    "        x = x - learning_rate * derivative \n",
    "    return x\n",
    "\n",
    "x_i = 5 \n",
    "rate = 0.1 \n",
    "i = 100\n",
    "\n",
    "print(f\"Gradient_descent: {gradient_descent(x_i, rate, i)}\")"
   ]
  },
  {
   "cell_type": "markdown",
   "metadata": {
    "id": "r9TwMgo-y5tm"
   },
   "source": [
    "# Bài tập 3: Phân tích thống kê  \n",
    "**Lý thuyết**:  \n",
    "NumPy cung cấp các chức năng để phân tích thống kê, bao gồm tính toán giá trị trung bình (mean), trung vị (median), độ lệch chuẩn (standard deviation) và mối tương quan (correlation).  \n",
    "\n",
    "**Đề Bài**:  \n",
    "Thực hiện phân tích thống kê trên tập dữ liệu bai3.csv bằng NumPy:  \n",
    "* Tính giá trị trung bình, trung vị và độ lệch chuẩn của tập dữ liệu.\n",
    "* Tính toán ma trận tương quan giữa các biến khác nhau.\n",
    "* Xác định các ngoại lệ trong tập dữ liệu bằng cách sử dụng điểm z.\n",
    "\n",
    "<details>\n",
    "  <summary>Hint</summary>\n",
    "\n",
    "```python\n",
    "  # Load dataset\n",
    "  data = np.loadtxt('dataset.csv', delimiter=',')\n",
    "\n",
    "  # Calculate mean, median, and standard deviation\n",
    "  mean = np.mean(data, axis=0)\n",
    "  median = np.median(data, axis=0)\n",
    "  std_dev = np.std(data, axis=0)\n",
    "\n",
    "  # Compute correlation matrix\n",
    "  correlation_matrix = np.corrcoef(data, rowvar=False)\n",
    "\n",
    "  # Identify outliers using z-scores\n",
    "  z_scores = np.abs((data - mean) / std_dev)\n",
    "  outliers = np.where(z_scores > 3)\n",
    "```\n",
    "</details>"
   ]
  },
  {
   "cell_type": "code",
   "execution_count": 34,
   "metadata": {
    "id": "KjYxequp1pld"
   },
   "outputs": [
    {
     "name": "stdout",
     "output_type": "stream",
     "text": [
      "Giá trị trung bình, trung vị và độ lệch chuẩn của tập dữ liệu: [3.42 3.82 6.48 2.72 7.32],[3.1 3.8 6.7 2.6 7.1],[1.56639714 0.59799666 1.25443214 0.75736385 1.32272446]\n"
     ]
    }
   ],
   "source": [
    "# Your code here\n",
    "import numpy as np\n",
    "\n",
    "data = np.genfromtxt('bai3.csv', delimiter=',', skip_header=1)\n",
    "\n",
    "mean = np.mean(data, axis=0)\n",
    "median = np.median(data, axis=0)\n",
    "std_dev = np.std(data, axis=0)\n",
    "\n",
    "print(f\"Giá trị trung bình, trung vị và độ lệch chuẩn của tập dữ liệu: {mean},{median},{std_dev}\")"
   ]
  },
  {
   "cell_type": "markdown",
   "metadata": {
    "id": "ZX1eKlF805bM"
   },
   "source": [
    "# Bài 4: Thao tác với tensor\n",
    "Đề cho một tensor đại diện cho một hình ảnh thang độ xám. Thực hiện các thao tác sau:\n",
    "\n",
    "1. Reshape: Reshape tensor thành một hình dạng khác trong khi vẫn đảm bảo tổng số phần tử không đổi.\n",
    "2. Transpose: Transpose tensor dọc theo các trục được chỉ định.\n",
    "3. Slice: Trích xuất một tập hợp con của tensor bằng cách cắt dọc theo các kích thước được chỉ định.\n",
    "4. Concatenate: Concatenate nhiều tensor dọc theo các trục được chỉ định.\n",
    "5. Các phép toán theo phần tử: Thực hiện các phép toán theo phần tử như cộng, trừ, nhân và chia với các giá trị vô hướng hoặc các tensor khác.\n",
    "6. Hoạt động rút gọn: Thực hiện các hoạt động rút gọn như tính tổng, trung bình, tối thiểu và tối đa dọc theo các trục được chỉ định.\n",
    "7. Indexing: Truy cập các phần tử riêng lẻ hoặc các tensor phụ bằng cách sử dụng các chỉ số nguyên hoặc boolean mark.\n",
    "\n",
    "<details>\n",
    "  <summary>Hint</summary>\n",
    "\n",
    "  ```python\n",
    "    # 1. Reshape the tensor\n",
    "    reshaped_tensor = image_tensor.reshape(1, 9)\n",
    "\n",
    "    # 2. Transpose the tensor\n",
    "    transposed_tensor = image_tensor.T\n",
    "\n",
    "    # 3. Slice the tensor\n",
    "    sliced_tensor = image_tensor[:2, :2]\n",
    "\n",
    "    # 4. Concatenate tensors\n",
    "    concatenated_tensor = np.concatenate((image_tensor, image_tensor), axis=0)\n",
    "\n",
    "    # 5. Element-wise operations\n",
    "    added_tensor = image_tensor + 0.1\n",
    "    multiplied_tensor = image_tensor * 2\n",
    "\n",
    "    # 6. Reduction operations\n",
    "    sum_tensor = np.sum(image_tensor)\n",
    "    mean_tensor = np.mean(image_tensor, axis=0)\n",
    "    max_tensor = np.max(image_tensor, axis=1)\n",
    "\n",
    "    # 7. Indexing\n",
    "    element = image_tensor[1, 2]\n",
    "  ```\n",
    "</details>"
   ]
  },
  {
   "cell_type": "code",
   "execution_count": 47,
   "metadata": {
    "executionInfo": {
     "elapsed": 2,
     "status": "ok",
     "timestamp": 1711944428036,
     "user": {
      "displayName": "Nha Nguyen",
      "userId": "05581690424976052134"
     },
     "user_tz": -420
    },
    "id": "sKx_zUMw041d"
   },
   "outputs": [
    {
     "name": "stdout",
     "output_type": "stream",
     "text": [
      "[[0.1 0.2 0.3 0.4 0.5 0.6 0.7 0.8 0.9]]\n",
      "[[0.1 0.4 0.7]\n",
      " [0.2 0.5 0.8]\n",
      " [0.3 0.6 0.9]]\n",
      "[[0.1 0.2]\n",
      " [0.4 0.5]]\n",
      "[[0.1 0.2 0.3]\n",
      " [0.4 0.5 0.6]\n",
      " [0.7 0.8 0.9]\n",
      " [0.1 0.2 0.3]\n",
      " [0.4 0.5 0.6]\n",
      " [0.7 0.8 0.9]]\n",
      "[[0.2 0.4 0.6]\n",
      " [0.8 1.  1.2]\n",
      " [1.4 1.6 1.8]] [[0.3 0.6 0.9]\n",
      " [1.2 1.5 1.8]\n",
      " [2.1 2.4 2.7]]\n",
      "0.9\n"
     ]
    }
   ],
   "source": [
    "image_tensor = np.array([\n",
    "    [0.1, 0.2, 0.3],\n",
    "    [0.4, 0.5, 0.6],\n",
    "    [0.7, 0.8, 0.9]\n",
    "])\n",
    "\n",
    "print(np.reshape(image_tensor, (1,9)))\n",
    "print(image_tensor.T)\n",
    "print(image_tensor[:2,:2])\n",
    "print(np.concatenate((image_tensor,image_tensor), axis = 0))\n",
    "print(image_tensor + image_tensor, image_tensor * 3)\n",
    "print(image_tensor[2,2])"
   ]
  },
  {
   "cell_type": "code",
   "execution_count": null,
   "metadata": {
    "id": "aDy3tPzby5RN"
   },
   "outputs": [],
   "source": [
    "# your code here"
   ]
  }
 ],
 "metadata": {
  "colab": {
   "authorship_tag": "ABX9TyMk1q12/N28maJwPQwRv9wn",
   "provenance": []
  },
  "kernelspec": {
   "display_name": "Python 3 (ipykernel)",
   "language": "python",
   "name": "python3"
  },
  "language_info": {
   "codemirror_mode": {
    "name": "ipython",
    "version": 3
   },
   "file_extension": ".py",
   "mimetype": "text/x-python",
   "name": "python",
   "nbconvert_exporter": "python",
   "pygments_lexer": "ipython3",
   "version": "3.11.7"
  }
 },
 "nbformat": 4,
 "nbformat_minor": 4
}
