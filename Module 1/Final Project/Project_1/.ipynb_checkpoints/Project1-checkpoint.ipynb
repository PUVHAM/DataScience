{
 "cells": [
  {
   "cell_type": "code",
   "execution_count": 1,
   "id": "b3857bf2-cb28-410c-be2f-fb2f6003c6ef",
   "metadata": {},
   "outputs": [],
   "source": [
    "from lastname_firstname_grade_the_exams import *"
   ]
  },
  {
   "cell_type": "code",
   "execution_count": null,
   "id": "cb71c50c-b589-435c-92be-ffccb175e7a2",
   "metadata": {},
   "outputs": [
    {
     "name": "stdin",
     "output_type": "stream",
     "text": [
      "Enter a class file to grade (i.e. class1 for class1.txt):  class1\n"
     ]
    },
    {
     "name": "stdout",
     "output_type": "stream",
     "text": [
      "Successfully opened ./Data_Files/class1.txt.txt\n",
      "Successfully write file ./Data_Files/class1_grade.txt\n"
     ]
    },
    {
     "name": "stdin",
     "output_type": "stream",
     "text": [
      "Enter a class file to grade (i.e. class1 for class1.txt):  class2\n"
     ]
    },
    {
     "name": "stdout",
     "output_type": "stream",
     "text": [
      "Successfully opened ./Data_Files/class2.txt.txt\n",
      "Successfully write file ./Data_Files/class2_grade.txt\n"
     ]
    },
    {
     "name": "stdin",
     "output_type": "stream",
     "text": [
      "Enter a class file to grade (i.e. class1 for class1.txt):  class3\n"
     ]
    },
    {
     "name": "stdout",
     "output_type": "stream",
     "text": [
      "Successfully opened ./Data_Files/class3.txt.txt\n",
      "Successfully write file ./Data_Files/class3_grade.txt\n"
     ]
    },
    {
     "name": "stdin",
     "output_type": "stream",
     "text": [
      "Enter a class file to grade (i.e. class1 for class1.txt):  class4\n"
     ]
    },
    {
     "name": "stdout",
     "output_type": "stream",
     "text": [
      "Successfully opened ./Data_Files/class4.txt.txt\n",
      "Successfully write file ./Data_Files/class4_grade.txt\n"
     ]
    },
    {
     "name": "stdin",
     "output_type": "stream",
     "text": [
      "Enter a class file to grade (i.e. class1 for class1.txt):  class5\n"
     ]
    },
    {
     "name": "stdout",
     "output_type": "stream",
     "text": [
      "Successfully opened ./Data_Files/class5.txt.txt\n",
      "Successfully write file ./Data_Files/class5_grade.txt\n"
     ]
    },
    {
     "name": "stdin",
     "output_type": "stream",
     "text": [
      "Enter a class file to grade (i.e. class1 for class1.txt):  class6\n"
     ]
    },
    {
     "name": "stdout",
     "output_type": "stream",
     "text": [
      "Successfully opened ./Data_Files/class6.txt.txt\n",
      "Successfully write file ./Data_Files/class6_grade.txt\n"
     ]
    },
    {
     "name": "stdin",
     "output_type": "stream",
     "text": [
      "Enter a class file to grade (i.e. class1 for class1.txt):  class7\n"
     ]
    },
    {
     "name": "stdout",
     "output_type": "stream",
     "text": [
      "Successfully opened ./Data_Files/class7.txt.txt\n",
      "Successfully write file ./Data_Files/class7_grade.txt\n"
     ]
    },
    {
     "name": "stdin",
     "output_type": "stream",
     "text": [
      "Enter a class file to grade (i.e. class1 for class1.txt):  class8\n"
     ]
    },
    {
     "name": "stdout",
     "output_type": "stream",
     "text": [
      "Successfully opened ./Data_Files/class8.txt.txt\n",
      "Successfully write file ./Data_Files/class8_grade.txt\n"
     ]
    }
   ],
   "source": [
    "Output_final()"
   ]
  },
  {
   "cell_type": "code",
   "execution_count": null,
   "id": "96872208-999c-434f-bcdf-434f08a7cd85",
   "metadata": {},
   "outputs": [],
   "source": []
  }
 ],
 "metadata": {
  "kernelspec": {
   "display_name": "Python 3 (ipykernel)",
   "language": "python",
   "name": "python3"
  },
  "language_info": {
   "codemirror_mode": {
    "name": "ipython",
    "version": 3
   },
   "file_extension": ".py",
   "mimetype": "text/x-python",
   "name": "python",
   "nbconvert_exporter": "python",
   "pygments_lexer": "ipython3",
   "version": "3.11.7"
  }
 },
 "nbformat": 4,
 "nbformat_minor": 5
}
