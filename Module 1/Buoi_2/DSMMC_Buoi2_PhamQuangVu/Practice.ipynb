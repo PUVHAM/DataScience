{
 "cells": [
  {
   "cell_type": "markdown",
   "id": "8c9ced84-6f0a-4088-a164-b1afba22accf",
   "metadata": {},
   "source": [
    "# Exercise 1"
   ]
  },
  {
   "cell_type": "code",
   "execution_count": 4,
   "id": "74271cab-65e2-4335-9bc6-61d8b92c60e1",
   "metadata": {},
   "outputs": [
    {
     "name": "stdin",
     "output_type": "stream",
     "text": [
      "Nhập vào một số thực (đơn vị cm):  15.5\n"
     ]
    },
    {
     "name": "stdout",
     "output_type": "stream",
     "text": [
      "ft: 0.5085301837270341\n",
      "inches: 0.5085301837270341\n"
     ]
    }
   ],
   "source": [
    "#Question 1\n",
    "num = float(input(\"Nhập vào một số thực (đơn vị cm): \")) \n",
    "inch = num / 2.54\n",
    "foot = inch / 12\n",
    "print(f\"ft: {foot}\")\n",
    "print(f\"inches: {foot}\")"
   ]
  },
  {
   "cell_type": "code",
   "execution_count": 2,
   "id": "eee71e45-25f6-4328-b3f1-8f10c4afe107",
   "metadata": {},
   "outputs": [
    {
     "name": "stdin",
     "output_type": "stream",
     "text": [
      "Nhập vào số giây từ 0 tới 68399:  7865\n"
     ]
    },
    {
     "name": "stdout",
     "output_type": "stream",
     "text": [
      "[2:11:5]\n"
     ]
    }
   ],
   "source": [
    "#Question 2\n",
    "num = int(input(\"Nhập vào số giây từ 0 tới 68399: \"))\n",
    "hour = num // 3600\n",
    "minute = int((num / 3600 - hour) * 60)\n",
    "temp =  (num / 3600 - hour) * 60\n",
    "second = int((temp - minute) * 60)\n",
    "print(f\"[{hour}:{minute}:{second}]\")"
   ]
  },
  {
   "cell_type": "code",
   "execution_count": 5,
   "id": "34ef24f1-94e4-49e1-a3d8-690057a1c6b2",
   "metadata": {},
   "outputs": [
    {
     "name": "stdin",
     "output_type": "stream",
     "text": [
      "Nhập vào 4 số nguyên:  4\n",
      "Nhập vào 4 số nguyên:  3\n",
      "Nhập vào 4 số nguyên:  2\n",
      "Nhập vào 4 số nguyên:  1\n"
     ]
    },
    {
     "name": "stdout",
     "output_type": "stream",
     "text": [
      "Giá trị lớn nhất: 4\n",
      "Giá trị nhỏ nhất: 1\n"
     ]
    }
   ],
   "source": [
    "#Question 3\n",
    "arr = []\n",
    "\n",
    "for i in range(4):\n",
    "  arr.append(int(input(\"Nhập vào 4 số nguyên: \")))\n",
    "\n",
    "max_value = max(arr)\n",
    "min_value = min(arr)\n",
    "\n",
    "print(f\"Giá trị lớn nhất: {max_value}\")\n",
    "print(f\"Giá trị nhỏ nhất: {min_value}\")"
   ]
  },
  {
   "cell_type": "code",
   "execution_count": 8,
   "id": "d18154a0-3bef-483e-97b5-01ee7912e36d",
   "metadata": {},
   "outputs": [
    {
     "name": "stdin",
     "output_type": "stream",
     "text": [
      "Nhập a:  5\n",
      "Nhập b:  7\n"
     ]
    },
    {
     "name": "stdout",
     "output_type": "stream",
     "text": [
      "Hiệu 2 số: 2\n",
      "Số thứ hai lớn hơn số thứ nhất\n"
     ]
    }
   ],
   "source": [
    "#Question 3 \n",
    "\n",
    "a = int(input(\"Nhập a: \"))\n",
    "b = int(input(\"Nhập b: \"))\n",
    "print(f\"Hiệu 2 số: {abs(a-b)}\")\n",
    "\n",
    "if a - b > 0:\n",
    "    print(\"Số thứ nhất lớn hơn số thứ hai\")\n",
    "else:\n",
    "    print(\"Số thứ hai lớn hơn số thứ nhất\")"
   ]
  },
  {
   "cell_type": "code",
   "execution_count": 14,
   "id": "370bbb3a-1d90-4584-b6fb-87017abc4656",
   "metadata": {},
   "outputs": [
    {
     "name": "stdin",
     "output_type": "stream",
     "text": [
      "Nhập a:  4\n",
      "Nhập b:  3\n"
     ]
    },
    {
     "name": "stdout",
     "output_type": "stream",
     "text": [
      "a không có chia hết cho b\n"
     ]
    }
   ],
   "source": [
    "#Question 4\n",
    "\n",
    "a = int(input(\"Nhập a: \"))\n",
    "b = int(input(\"Nhập b: \"))\n",
    "\n",
    "if b == 0:\n",
    "    print(\"lỗi chia hết cho 0, yêu cầu nhập lại\")\n",
    "elif a % b == 0:\n",
    "    print(\"a có chia hết cho b\")\n",
    "else:\n",
    "    print(\"a không có chia hết cho b\")"
   ]
  },
  {
   "cell_type": "code",
   "execution_count": 17,
   "id": "a97cb56c-7c55-4822-a65f-476852ef8cbe",
   "metadata": {},
   "outputs": [
    {
     "name": "stdin",
     "output_type": "stream",
     "text": [
      "Nhập điểm toán:  7.5\n",
      "Nhập điểm lý:  8.5\n",
      "Nhập điểm hoá:  9\n"
     ]
    },
    {
     "name": "stdout",
     "output_type": "stream",
     "text": [
      "Loại giỏi\n"
     ]
    }
   ],
   "source": [
    "#Question 5\n",
    "\n",
    "math = float(input(\"Nhập điểm toán: \"))\n",
    "phy = float(input(\"Nhập điểm lý: \"))\n",
    "chem = float(input(\"Nhập điểm hoá: \"))\n",
    "\n",
    "average = ( math * 2 + phy + chem ) / 4\n",
    "\n",
    "if average >= 9.0:\n",
    "    print(\"Loại xuất sắc\")\n",
    "elif 8.0 <= average < 9.0:\n",
    "    print(\"Loại giỏi\")\n",
    "elif 7.0 <= average < 8.0:\n",
    "    print(\"Loại khá\")\n",
    "elif 6.0 <= average < 7.0:\n",
    "    print(\"Loại trung bình khá\")\n",
    "elif 5.0 <= average < 6.0:\n",
    "    print(\"Loại trung bình\")\n",
    "elif average < 5.0:\n",
    "    print(\"Loại kém\")\n"
   ]
  },
  {
   "cell_type": "markdown",
   "id": "388d2230-46e5-490b-a62d-593501281037",
   "metadata": {},
   "source": [
    "# Exercise 2"
   ]
  },
  {
   "cell_type": "code",
   "execution_count": 23,
   "id": "9c6843a1-011c-4b3b-9037-9e18e6ef4f40",
   "metadata": {},
   "outputs": [
    {
     "name": "stdin",
     "output_type": "stream",
     "text": [
      "Nhập vào số nguyên bất kỳ:  852305\n"
     ]
    },
    {
     "name": "stdout",
     "output_type": "stream",
     "text": [
      "Tổng các chữ số: 23\n"
     ]
    }
   ],
   "source": [
    "#Question 1\n",
    "\n",
    "n = int(input(\"Nhập vào số nguyên bất kỳ: \"))\n",
    "sum = 0\n",
    "\n",
    "while n > 0:\n",
    "    sum += n % 10\n",
    "    n //= 10\n",
    "\n",
    "print(f\"Tổng các chữ số: {sum}\")"
   ]
  },
  {
   "cell_type": "code",
   "execution_count": 2,
   "id": "57a4666f-f022-4676-b471-d1b0c9657119",
   "metadata": {},
   "outputs": [
    {
     "name": "stdin",
     "output_type": "stream",
     "text": [
      "Nhập vào số nguyên bất kỳ:  60\n"
     ]
    },
    {
     "name": "stdout",
     "output_type": "stream",
     "text": [
      "Số 60 được phân tích thành: \n",
      "2 \n",
      "2 \n",
      "3 \n",
      "5 \n"
     ]
    }
   ],
   "source": [
    "#Question 2\n",
    "\n",
    "n = int(input(\"Nhập vào số nguyên bất kỳ: \"))\n",
    "print(f\"Số {n} được phân tích thành: \")\n",
    "\n",
    "for i in range(2, n + 1):\n",
    "    while n % i == 0:\n",
    "        print(f\"{i} \")\n",
    "        n /= i"
   ]
  },
  {
   "cell_type": "code",
   "execution_count": 1,
   "id": "024b2093-acc6-4d7e-b117-720106c9ddc8",
   "metadata": {},
   "outputs": [
    {
     "name": "stdin",
     "output_type": "stream",
     "text": [
      "Nhập vào số nguyên bất kỳ:  59\n"
     ]
    },
    {
     "name": "stdout",
     "output_type": "stream",
     "text": [
      "Tất cả số nguyên tố nhỏ hơn 59: \n",
      "Không có số nguyên tố nào nhỏ hơn.\n"
     ]
    }
   ],
   "source": [
    "#Question 3\n",
    "n = int(input(\"Nhập vào số nguyên bất kỳ: \"))\n",
    "print(f\"Tất cả số nguyên tố nhỏ hơn {n}: \")\n",
    "k = n\n",
    "is_prime = False\n",
    "for i in range(2, n + 1):\n",
    "    while n % i == 0 and i < k:\n",
    "            is_prime = True  \n",
    "            print(f\"{i} \")\n",
    "            n /= i\n",
    "\n",
    "if not is_prime:\n",
    "    print(\"Không có số nguyên tố nào nhỏ hơn.\")"
   ]
  },
  {
   "cell_type": "code",
   "execution_count": 24,
   "id": "d66c9103-5e9e-4b30-8fea-460e57b61eff",
   "metadata": {},
   "outputs": [
    {
     "name": "stdin",
     "output_type": "stream",
     "text": [
      "Nhập số n bất kỳ:  5\n"
     ]
    },
    {
     "name": "stdout",
     "output_type": "stream",
     "text": [
      "5 số nguyên tố đầu tiên: \n",
      "[2, 3, 5, 7, 11]\n"
     ]
    }
   ],
   "source": [
    "#Question 4\n",
    "arr = []\n",
    "\n",
    "def checkprime(n):\n",
    "    if n <= 1:\n",
    "        return False\n",
    "    if n <= 3: \n",
    "        return True\n",
    "    if n % 2 == 0 or n % 3 == 0:\n",
    "        return False\n",
    "    i = 5\n",
    "    while i * i <= n:\n",
    "        if n % i == 0 or n % (i + 2) == 0:\n",
    "            return False\n",
    "        i += 6\n",
    "    return True\n",
    "\n",
    "def listprime(n):\n",
    "    prime = []\n",
    "    so = 2\n",
    "    while len(prime) < n:\n",
    "        if checkprime(so):\n",
    "            prime.append(so)\n",
    "        so += 1\n",
    "    return prime\n",
    "\n",
    "\n",
    "n = int(input(\"Nhập số n bất kỳ: \"))\n",
    "print(f\"{n} số nguyên tố đầu tiên: \")\n",
    "print(listprime(n))"
   ]
  },
  {
   "cell_type": "code",
   "execution_count": 11,
   "id": "6e05ffbc-34f4-4644-b713-49f52ac87137",
   "metadata": {},
   "outputs": [
    {
     "name": "stdin",
     "output_type": "stream",
     "text": [
      "Nhập số nguyên a bất kỳ :  54\n",
      "Nhập số nguyên b bất kỳ :  23\n"
     ]
    },
    {
     "name": "stdout",
     "output_type": "stream",
     "text": [
      "Ước chung lớn nhất: 1\n",
      "Bội chung nhỏ nhất: 1242\n"
     ]
    }
   ],
   "source": [
    "#Question 5\n",
    "\n",
    "def GCD(a, b):\n",
    "    while a * b != 0:\n",
    "        if a > b:\n",
    "           a %= b\n",
    "        else:\n",
    "            b %= a\n",
    "    return a + b\n",
    "\n",
    "def splitPrime(n):\n",
    "    arr = []\n",
    "    \n",
    "    for i in range(2, n + 1):\n",
    "        while n % i == 0:\n",
    "            arr.append(i)\n",
    "            n //= i\n",
    "\n",
    "    return arr\n",
    "    \n",
    "def LCM(a,b):\n",
    "    arr_1 = splitPrime(a)\n",
    "    arr_2 = splitPrime(b)\n",
    "\n",
    "    lcm = 1\n",
    "    i = 0\n",
    "    j = 0\n",
    "    \n",
    "    while i < len(arr_1) and j < len(arr_2):\n",
    "        if arr_1[i] == arr_2[j]:\n",
    "            lcm *= arr_1[i]\n",
    "            i += 1\n",
    "            j += 1\n",
    "        elif arr_1[i] < arr_2[j]:\n",
    "            lcm *= arr_1[i]\n",
    "            i += 1\n",
    "        else:\n",
    "            lcm *= arr_2[j]\n",
    "            j += 1\n",
    "    \n",
    "    while i < len(arr_1):\n",
    "        lcm *= arr_1[i]\n",
    "        i += 1\n",
    "    while j < len(arr_2):\n",
    "        lcm *= arr_2[j]\n",
    "        j += 1\n",
    "    \n",
    "    return lcm\n",
    "\n",
    "\n",
    "a = int(input(\"Nhập số nguyên a bất kỳ : \"))\n",
    "b = int(input(\"Nhập số nguyên b bất kỳ : \"))\n",
    "print(f\"Ước chung lớn nhất: {GCD(a, b)}\")\n",
    "print(f\"Bội chung nhỏ nhất: {LCM(a, b)}\")"
   ]
  },
  {
   "cell_type": "code",
   "execution_count": 21,
   "id": "643b5f54-f52b-4a43-ba03-41205f631ecf",
   "metadata": {},
   "outputs": [
    {
     "name": "stdin",
     "output_type": "stream",
     "text": [
      "Nhập số n (n >= 2):  3\n"
     ]
    },
    {
     "name": "stdout",
     "output_type": "stream",
     "text": [
      "Số fibonacci thứ n: 3\n"
     ]
    }
   ],
   "source": [
    "#Question 6\n",
    "Fn_1 = 1\n",
    "Fn_2 = 1\n",
    "Fn = 0\n",
    "\n",
    "n = int(input(\"Nhập số n (n >= 2): \"))\n",
    "\n",
    "if n >= 2:\n",
    "    for i in range(n - 1):\n",
    "        Fn = Fn_2 + Fn_1\n",
    "        Fn_2 = Fn_1\n",
    "        Fn_1 = Fn\n",
    "\n",
    "    print(f\"Số fibonacci thứ n: {Fn}\")\n",
    "else:\n",
    "    print(\"Vui lòng nhập lại\")\n"
   ]
  },
  {
   "cell_type": "code",
   "execution_count": 10,
   "id": "ee803011-71b0-4571-8216-ed65b1151edf",
   "metadata": {},
   "outputs": [
    {
     "name": "stdin",
     "output_type": "stream",
     "text": [
      "Nhập số tự nhiên n bất kỳ:  7\n"
     ]
    },
    {
     "name": "stdout",
     "output_type": "stream",
     "text": [
      "Số Fibonacci nguyên tố nhỏ hơn 7: 2\n",
      "Số Fibonacci nguyên tố nhỏ hơn 7: 3\n",
      "Số Fibonacci nguyên tố nhỏ hơn 7: 5\n"
     ]
    }
   ],
   "source": [
    "#Question 7\n",
    "\n",
    "def fibonacci(n):\n",
    "    Fn_1 = 1\n",
    "    Fn_2 = 1\n",
    "    Fn = 0\n",
    "    \n",
    "    if n >= 2:\n",
    "        for i in range(n - 1):\n",
    "            Fn = Fn_2 + Fn_1\n",
    "            Fn_2 = Fn_1\n",
    "            Fn_1 = Fn\n",
    "        return Fn\n",
    "    else:\n",
    "        print(\"Vui lòng nhập lại\")\n",
    "\n",
    "def is_prime(num):\n",
    "    if num <= 1:\n",
    "        return False\n",
    "    if num <= 3:\n",
    "        return True\n",
    "    if num % 2 == 0 or num % 3 == 0:\n",
    "        return False\n",
    "    i = 5\n",
    "    while i * i <= num:\n",
    "        if num % i == 0 or num % (i + 2) == 0:\n",
    "            return False\n",
    "        i += 6\n",
    "    return True\n",
    "\n",
    "def prime_less_fibo(n):\n",
    "    if n <= 2:\n",
    "        print(\"Không có số nguyên tố nào nhỏ hơn.\")\n",
    "        return\n",
    "    \n",
    "    for i in range(2, n - 1):\n",
    "        fib = fibonacci(i)\n",
    "        if fib is None:\n",
    "            break\n",
    "        if is_prime(fib):\n",
    "            print(f\"Số Fibonacci nguyên tố nhỏ hơn {n}: {fib}\")\n",
    "\n",
    "\n",
    "n = int(input(\"Nhập số tự nhiên n bất kỳ: \"))\n",
    "prime_less_fibo(n)\n"
   ]
  },
  {
   "cell_type": "code",
   "execution_count": 4,
   "id": "8a3ada97-1a51-45fc-8be8-3b41eb8d0fe0",
   "metadata": {},
   "outputs": [
    {
     "name": "stdin",
     "output_type": "stream",
     "text": [
      "Nhập số nguyên dương n bất kỳ:  60\n"
     ]
    },
    {
     "name": "stdout",
     "output_type": "stream",
     "text": [
      "Tổng các chữ số của 60: 6\n",
      "Số 60 được phân tích thành: \n",
      "2 \n",
      "2 \n",
      "3 \n",
      "5 \n",
      "1\n"
     ]
    }
   ],
   "source": [
    "#Question 8\n",
    "n = int(input(\"Nhập số nguyên dương n bất kỳ: \"))\n",
    "\n",
    "def digitSum(n):\n",
    "    sum = 0\n",
    "\n",
    "    while n > 0:\n",
    "        sum += n % 10\n",
    "        n //= 10\n",
    "\n",
    "    return sum\n",
    "\n",
    "def splitPrime(n):\n",
    "    print(f\"Số {n} được phân tích thành: \")\n",
    "\n",
    "    for i in range(2, n + 1):\n",
    "        while n % i == 0:\n",
    "            print(f\"{i} \")\n",
    "            n //= i\n",
    "\n",
    "    return n\n",
    "\n",
    "print(f\"Tổng các chữ số của {n}: {digitSum(n)}\")\n",
    "print(f\"{splitPrime(n)}\")"
   ]
  },
  {
   "cell_type": "code",
   "execution_count": 11,
   "id": "8fefb6a4-8b37-4c9b-a958-e54b5a2b85c1",
   "metadata": {},
   "outputs": [
    {
     "name": "stdin",
     "output_type": "stream",
     "text": [
      "Nhập vào chuỗi bất kỳ:      Đây LÀ một CHUỖI  Thử nghiệm\n"
     ]
    },
    {
     "name": "stdout",
     "output_type": "stream",
     "text": [
      "Xâu kí tự đã được chuẩn hoá: Đây là một chuỗi thử nghiệm\n"
     ]
    }
   ],
   "source": [
    "#Question 10\n",
    "import re\n",
    "\n",
    "def normalizeStr(str):\n",
    "    str1 = re.sub(r\"\\s+\", \" \", str).strip()\n",
    "    str1 = str1.lower()\n",
    "    str1 = str1[0].upper() + str1[1:]  \n",
    "    return str1\n",
    "\n",
    "str = input(\"Nhập vào chuỗi bất kỳ: \")\n",
    "print(f\"Xâu kí tự đã được chuẩn hoá: {normalizeStr(str)}\")"
   ]
  },
  {
   "cell_type": "code",
   "execution_count": 19,
   "id": "fa04b410-a779-4bbe-8e70-599b69c50a99",
   "metadata": {},
   "outputs": [
    {
     "name": "stdin",
     "output_type": "stream",
     "text": [
      "Nhập vào chuỗi bất kỳ:  Đây là một chuỗi thử nghiệm\n"
     ]
    },
    {
     "name": "stdout",
     "output_type": "stream",
     "text": [
      "Từ dài nhất trong xâu: nghiệm\n",
      "Từ đó xuất hiện ở vị trí: 21\n"
     ]
    }
   ],
   "source": [
    "#Question 11\n",
    "\n",
    "str = input(\"Nhập vào chuỗi bất kỳ: \")\n",
    "def longestWord(str):\n",
    "    lst_str = str.split()\n",
    "    len_s = len(lst_str[0])\n",
    "    temp = lst_str[0]\n",
    "    \n",
    "    for i in range(len(lst_str)):\n",
    "        if len_s < len(lst_str[i]):\n",
    "            temp = lst_str[i]\n",
    "            len_s = len(lst_str[i])\n",
    "\n",
    "    return temp\n",
    "\n",
    "def wordPos(str):\n",
    "    word = longestWord(str)\n",
    "    pos = str.find(word)\n",
    "    return pos\n",
    "\n",
    "print(f\"Từ dài nhất trong xâu: {longestWord(str)}\")\n",
    "print(f\"Từ đó xuất hiện ở vị trí: {wordPos(str)}\")"
   ]
  },
  {
   "cell_type": "markdown",
   "id": "910bb824-5d4e-496d-9ca4-dacca17924fe",
   "metadata": {},
   "source": [
    "# Exercise 3"
   ]
  },
  {
   "cell_type": "code",
   "execution_count": 22,
   "id": "a1d9baeb-7cae-43b6-884b-f5b6b6a0a0f3",
   "metadata": {},
   "outputs": [
    {
     "name": "stdin",
     "output_type": "stream",
     "text": [
      "Nhập số nguyên dương n bất kỳ:  5\n"
     ]
    },
    {
     "name": "stdout",
     "output_type": "stream",
     "text": [
      "'5' giai thừa: 120\n"
     ]
    }
   ],
   "source": [
    "#Question 2\n",
    "\n",
    "def factorial(n):\n",
    "    if n == 0:\n",
    "        return 1\n",
    "    temp = 1\n",
    "    for i in range(1,n+1):\n",
    "        temp *= i\n",
    "    return temp\n",
    "\n",
    "n = int(input(\"Nhập số nguyên dương n bất kỳ: \"))\n",
    "print(f\"'{n}' giai thừa: {factorial(n)}\")"
   ]
  },
  {
   "cell_type": "code",
   "execution_count": null,
   "id": "4f2c6aca-bf33-4165-9866-809aacc555fe",
   "metadata": {},
   "outputs": [],
   "source": []
  }
 ],
 "metadata": {
  "kernelspec": {
   "display_name": "Python 3 (ipykernel)",
   "language": "python",
   "name": "python3"
  },
  "language_info": {
   "codemirror_mode": {
    "name": "ipython",
    "version": 3
   },
   "file_extension": ".py",
   "mimetype": "text/x-python",
   "name": "python",
   "nbconvert_exporter": "python",
   "pygments_lexer": "ipython3",
   "version": "3.11.7"
  }
 },
 "nbformat": 4,
 "nbformat_minor": 5
}
