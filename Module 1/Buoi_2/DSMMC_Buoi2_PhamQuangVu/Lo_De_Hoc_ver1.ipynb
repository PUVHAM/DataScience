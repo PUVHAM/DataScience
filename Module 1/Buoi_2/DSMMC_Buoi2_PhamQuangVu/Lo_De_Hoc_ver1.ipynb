{
 "cells": [
  {
   "cell_type": "code",
   "execution_count": 2,
   "id": "c761f405-141a-423b-8907-ce403f4e153e",
   "metadata": {},
   "outputs": [],
   "source": [
    "import random\n",
    "from IPython.display import clear_output"
   ]
  },
  {
   "cell_type": "code",
   "execution_count": 3,
   "id": "d661b8c0-d5bd-4ece-b169-05aafff96056",
   "metadata": {},
   "outputs": [],
   "source": [
    "# Khởi tạo biến toàn cục\n",
    "total_money = 1000000"
   ]
  },
  {
   "cell_type": "code",
   "execution_count": 4,
   "id": "26d9c244-b1ad-4efe-a782-638bf695fe6a",
   "metadata": {},
   "outputs": [],
   "source": [
    "#Xây dựng hàm quay số\n",
    "def quay_so():\n",
    "    lst = []\n",
    "    for i in range(8):\n",
    "        lst.append(random.randint(10,99))\n",
    "    return lst"
   ]
  },
  {
   "cell_type": "code",
   "execution_count": 5,
   "id": "228d3864-b2ca-414c-a580-1c107b52c595",
   "metadata": {},
   "outputs": [],
   "source": [
    "#Xây dựng hàm in danh sách giải\n",
    "def in_giai(lst):\n",
    "    print('-' * 20)\n",
    "    print(\"---DANH SÁCH GIẢI---\")\n",
    "    num = 1\n",
    "    for i in lst:\n",
    "        print(f\"Giải {num}: {i}\")\n",
    "        num += 1"
   ]
  },
  {
   "cell_type": "code",
   "execution_count": 6,
   "id": "333dc56d-6450-4f78-9900-dbbb22cd180a",
   "metadata": {},
   "outputs": [],
   "source": [
    "#Xây dựng hàm nhập số lô\n",
    "def nhap_so():\n",
    "    while True:\n",
    "        num = input(\"Nhập số lô mà bạn muốn cược (10-99): \")\n",
    "        if num.isdigit() and 10 <= int(num) <= 99:\n",
    "            return int(num)\n",
    "        else:\n",
    "            print(\"Nhập sai định dạng hoặc nằm ngoài khoảng giá trị cho phép. Vui lòng nhập lại!\")"
   ]
  },
  {
   "cell_type": "code",
   "execution_count": 7,
   "id": "3037b215-a368-46d8-8272-d9cb39d5073b",
   "metadata": {},
   "outputs": [],
   "source": [
    "#Xây dựng hàm nhập tiền cược\n",
    "def nhap_tien():\n",
    "    global total_money\n",
    "    while True:\n",
    "        money = input(\"Nhập tiền cược mà bạn muốn cược (0 < tiền cược <= tổng tiền bạn có): \")\n",
    "        if money.isdigit() and 0 < int(money) <= total_money:\n",
    "            return int(money)\n",
    "        else:\n",
    "            print(\"Nhập sai định dạng hoặc quá tổng tiền. Nhập lại\") "
   ]
  },
  {
   "cell_type": "code",
   "execution_count": 8,
   "id": "4330ced9-d1d2-496b-a646-9807394538f2",
   "metadata": {},
   "outputs": [],
   "source": [
    "#Xây dựng hàm xử lý\n",
    "def game_quay(num, money):\n",
    "    global total_money\n",
    "\n",
    "    lst_prize = quay_so()\n",
    "    count = 0\n",
    "    print(f\"Số lô bạn chơi là: {num}\")\n",
    "    in_giai(lst_prize)\n",
    "    \n",
    "    for prize in lst_prize:\n",
    "        if num == prize:\n",
    "            count += 1\n",
    "\n",
    "    if count > 0:\n",
    "        total_money += (money * count) * 70\n",
    "        print(f\"Bạn đã trúng {count} nháy!\")\n",
    "        print(f\"Số tiền bạn trúng là {(money * count) * 70}\")\n",
    "        print(f\"Tổng tiền bạn có là {total_money}\")\n",
    "    else:\n",
    "        print(\"Bạn đã thua lô!\")\n",
    "        total_money -= money\n",
    "        print(f\"Tổng tiền bạn còn là {total_money}\")"
   ]
  },
  {
   "cell_type": "code",
   "execution_count": 15,
   "id": "ec996ee3-0b25-49f5-a433-28509a0103c2",
   "metadata": {},
   "outputs": [],
   "source": [
    "#Xây dựng hàm nạp tiền\n",
    "def nap_tien():\n",
    "    global total_money \n",
    "    while True:\n",
    "        input_money = int(input(\"Nhập số tiền mà bạn muốn nạp: \"))\n",
    "        total_money += input_money\n",
    "        print(f\"Tổng tiền sau khi bạn nạp là {total_money}\")\n",
    "        check = int(input(\"Bạn có muốn nạp tiếp không? (Nhập '0': không, nhập '1': có)\"))\n",
    "        if check == 0:\n",
    "            break\n",
    "        else:\n",
    "            continue"
   ]
  },
  {
   "cell_type": "code",
   "execution_count": 10,
   "id": "971b6e51-e06b-46ac-b657-c27bc816de4f",
   "metadata": {},
   "outputs": [],
   "source": [
    "#Xây dựng hàm menu\n",
    "def menu():\n",
    "    print(\"CHÀO MỪNG BẠN ĐẾN VỚI GAME LÔ ĐỀ HỌC ONLINE\")\n",
    "    print(\"------VUI LÒNG CHỌN CÁC THAO TÁC SAU-------\")\n",
    "    print(\"1. Chơi lô\")\n",
    "    print(\"2. Nạp tiền\")\n",
    "    print(\"3. Thoát game\")"
   ]
  },
  {
   "cell_type": "code",
   "execution_count": 11,
   "id": "97a730d6-a077-4c14-a2e8-1fe842700136",
   "metadata": {},
   "outputs": [],
   "source": [
    "def het_tien():\n",
    "    global total_money\n",
    "    if total_money == 0:\n",
    "        while True:\n",
    "            check = int(input(\"Bạn đã hết tiền, có muốn nạp tiền để chơi tiếp? (Nhập '0': không, nhập '1': có): \"))\n",
    "            if check == 0:\n",
    "                clear_output(wait=True)\n",
    "                main()\n",
    "                break\n",
    "            elif check == 1:\n",
    "                clear_output(wait=True)\n",
    "                nap_tien()\n",
    "                break\n",
    "            else:\n",
    "                print(\"Lựa chọn không hợp lệ, vui lòng nhập lại!\")\n",
    "        return"
   ]
  },
  {
   "cell_type": "code",
   "execution_count": 19,
   "id": "59f90875-e3d7-4d37-9f77-13f3eb3e5472",
   "metadata": {},
   "outputs": [],
   "source": [
    "def main():\n",
    "    global total_money \n",
    "    menu()\n",
    "    while True:\n",
    "        choose = int(input(\"Bạn chọn số: \"))\n",
    "        match choose:\n",
    "            case 1:\n",
    "                clear_output()\n",
    "                while True: \n",
    "                    het_tien()\n",
    "                    money = nhap_tien()\n",
    "                    num = nhap_so()\n",
    "                    game_quay(num, money)\n",
    "                    het_tien()\n",
    "                    if total_money != 0:\n",
    "                        play_more = int(input(\"Bạn có muốn chơi tiếp không? (Nhập '0': không, nhập '1': có)\"))\n",
    "                        if play_more == 0:\n",
    "                            break\n",
    "                clear_output(wait=True)\n",
    "                main()\n",
    "                break\n",
    "            case 2:\n",
    "                clear_output()\n",
    "                nap_tien()\n",
    "                clear_output(wait=True)\n",
    "                main()\n",
    "                break\n",
    "            case 3:\n",
    "                print(\"Chào bạn, hẹn gặp lại!\")\n",
    "                break\n",
    "            case _:\n",
    "                print(\"Nhập sai lựa chọn, vui lòng nhập lại !\")      "
   ]
  },
  {
   "cell_type": "code",
   "execution_count": null,
   "id": "6c9be0a7-7a79-4823-b8c9-b34b646b037a",
   "metadata": {},
   "outputs": [],
   "source": [
    "main()"
   ]
  },
  {
   "cell_type": "code",
   "execution_count": null,
   "id": "0a391dba-eab7-4cc4-97ea-3378581ad7e8",
   "metadata": {},
   "outputs": [],
   "source": []
  }
 ],
 "metadata": {
  "kernelspec": {
   "display_name": "Python 3 (ipykernel)",
   "language": "python",
   "name": "python3"
  },
  "language_info": {
   "codemirror_mode": {
    "name": "ipython",
    "version": 3
   },
   "file_extension": ".py",
   "mimetype": "text/x-python",
   "name": "python",
   "nbconvert_exporter": "python",
   "pygments_lexer": "ipython3",
   "version": "3.11.7"
  }
 },
 "nbformat": 4,
 "nbformat_minor": 5
}
