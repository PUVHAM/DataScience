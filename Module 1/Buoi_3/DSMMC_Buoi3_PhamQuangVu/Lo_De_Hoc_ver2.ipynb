{
 "cells": [
  {
   "cell_type": "code",
   "execution_count": 17,
   "id": "ad4e2c75-59a4-4210-a77f-27972bd2bbac",
   "metadata": {},
   "outputs": [],
   "source": [
    "import random\n",
    "from IPython.display import clear_output"
   ]
  },
  {
   "cell_type": "code",
   "execution_count": 32,
   "id": "1543b534-a3bb-42bd-b136-e5960c8520ec",
   "metadata": {},
   "outputs": [],
   "source": [
    "# Khởi tạo biến toàn cục\n",
    "total_money = 1000000\n",
    "login_status = False"
   ]
  },
  {
   "cell_type": "code",
   "execution_count": 76,
   "id": "545e4ab1-2f23-4a2d-b359-e7608b3f374d",
   "metadata": {},
   "outputs": [],
   "source": [
    "def quay_so():\n",
    "    lst_prize = {}\n",
    "\n",
    "    name = [\"GIẢI NHẤT\", \"GIẢI NHÌ\", \"GIẢI BA\", \"GIẢI TƯ\", \"GIẢI NĂM\", \"GIẢI SÁU\", \"GIẢI BẢY\"]\n",
    "\n",
    "    for prize in name:\n",
    "        num = \"\"\n",
    "        for i in range(5):\n",
    "            num += str(random.randint(0, 9))  # Tạo một chữ số ngẫu nhiên từ 0 đến 9 và thêm vào số\n",
    "        lst_prize[prize] = num\n",
    "\n",
    "    return lst_prize"
   ]
  },
  {
   "cell_type": "code",
   "execution_count": 77,
   "id": "ceb2223d-e1a0-4c17-bfb5-c9ffa3f55fd2",
   "metadata": {},
   "outputs": [],
   "source": [
    "def in_giai(lst_prize):\n",
    "    print('-' * 20)\n",
    "    print(\"---DANH SÁCH GIẢI---\")\n",
    "    for prize, num in lst_prize.items():\n",
    "        print(f\"{prize}: {num}\")\n",
    "    print('-' * 20)"
   ]
  },
  {
   "cell_type": "code",
   "execution_count": 78,
   "id": "419478e8-ac98-44d3-8bce-8fcc8ed907a7",
   "metadata": {},
   "outputs": [],
   "source": [
    "def nhap_so():\n",
    "    while True:\n",
    "        input_num = input(\"Nhập các số lô bạn muốn chơi, cách nhau bằng dấu phẩy: \")\n",
    "        lst_num = input_num.split(\",\")\n",
    "\n",
    "        check_num = True\n",
    "\n",
    "        for num in lst_num:\n",
    "            if len(num) != 2 or not num.isdigit():\n",
    "                print(\"Số lô nhập không hợp lệ. Vui lòng nhập lại.\")\n",
    "                check_num = False\n",
    "                break\n",
    "\n",
    "        if check_num:\n",
    "            return lst_num"
   ]
  },
  {
   "cell_type": "code",
   "execution_count": 79,
   "id": "28794933-aca0-4f8c-9f31-e6b92fa555e7",
   "metadata": {},
   "outputs": [],
   "source": [
    "def nhap_tien(nums):\n",
    "    while True:\n",
    "        money = input(\"Nhập tiền cược mà bạn muốn cược (0 < tiền cược <= tổng tiền bạn có): \")\n",
    "        if money.isdigit() and 0 < int(money) * nums <= total_money:\n",
    "            return int(money)\n",
    "        else:\n",
    "            print(\"Nhập sai định dạng hoặc quá tổng tiền. Nhập lại\")"
   ]
  },
  {
   "cell_type": "code",
   "execution_count": 80,
   "id": "71151ca8-2eea-4141-8f34-7f8ee57d561c",
   "metadata": {},
   "outputs": [],
   "source": [
    "def game_quay(lst_num, money):\n",
    "    global total_money\n",
    "\n",
    "    lst_prize = quay_so()\n",
    "\n",
    "    in_giai(lst_prize)\n",
    "    count = 0\n",
    "    win = []  # Danh sách lưu trữ số lô trúng\n",
    "\n",
    "    print(\"Các số lô bạn chơi là:\", lst_num)\n",
    "    for prize, num_prize in lst_prize.items():\n",
    "        for num in lst_num:\n",
    "            if num == num_prize[-2:]:\n",
    "                count += 1\n",
    "                win.append(num)\n",
    "\n",
    "    if count > 0:\n",
    "        get_money = money * count * 70\n",
    "        lose_money = money * (len(lst_num) - len(win))\n",
    "\n",
    "        total_money += get_money - lose_money\n",
    "\n",
    "        print(f\"Bạn đã trúng {count} nháy!\")\n",
    "        print(\"Các số lô trúng:\", \", \".join(win))\n",
    "        print(f\"Số tiền bạn trúng là {get_money}\")\n",
    "        print(f\"Số tiền bạn thua là {lose_money}\")\n",
    "        print(f\"Tổng tiền bạn có là {total_money}\")\n",
    "    else:\n",
    "        lose_money = money * len(lst_num)\n",
    "        total_money -= lose_money\n",
    "\n",
    "        print(\"Bạn đã thua lô!\")\n",
    "        print(f\"Số tiền bạn thua là {lose_money}\")\n",
    "        print(f\"Tổng tiền bạn còn là {total_money}\")"
   ]
  },
  {
   "cell_type": "code",
   "execution_count": 87,
   "id": "1d6d5149-db2c-41b7-bc12-6cb87e74d335",
   "metadata": {},
   "outputs": [],
   "source": [
    "def nap_tien():\n",
    "    global total_money \n",
    "    while True:\n",
    "        input_money = int(input(\"Nhập số tiền mà bạn muốn nạp: \"))\n",
    "        total_money += input_money\n",
    "        print(f\"Tổng tiền sau khi bạn nạp là {total_money}\")\n",
    "        check = int(input(\"Bạn có muốn nạp tiếp không? (Nhập '0': không, nhập '1': có)\"))\n",
    "        if check == 0:\n",
    "            break\n",
    "        elif check == 1:\n",
    "            continue\n",
    "        else:\n",
    "            print(\"Lựa chọn không hợp lệ, vui lòng nhập lại!\")"
   ]
  },
  {
   "cell_type": "code",
   "execution_count": 82,
   "id": "087ea168-a243-47c0-b7cc-b925c105b82c",
   "metadata": {},
   "outputs": [],
   "source": [
    "def dang_nhap():\n",
    "    global login_status\n",
    "    print(\"---GAME LÔ ĐỀ HỌC---\")\n",
    "    print(\"Vui lòng đăng nhập để chơi game\")\n",
    "\n",
    "    while True:\n",
    "        username = input(\"Nhập username: \")\n",
    "        password = input(\"Nhập password: \")\n",
    "\n",
    "        if username == \"admin\" and password == \"admin\":\n",
    "            login_status = True\n",
    "            break\n",
    "        else:\n",
    "            print(\"Sai tên người dùng hoặc mật khẩu, vui lòng thử lại.\")\n",
    "    clear_output()\n",
    "    menu()"
   ]
  },
  {
   "cell_type": "code",
   "execution_count": 83,
   "id": "03469e57-3f98-4e37-b197-040f3be163e3",
   "metadata": {},
   "outputs": [],
   "source": [
    "def menu():\n",
    "    print(\"CHÀO MỪNG BẠN ĐẾN VỚI GAME LÔ ĐỀ HỌC ONLINE\")\n",
    "    print(\"------VUI LÒNG CHỌN CÁC THAO TÁC SAU-------\")\n",
    "    print(\"1. Chơi lô\")\n",
    "    print(\"2. Nạp tiền\")\n",
    "    print(\"3. Đăng xuất\")"
   ]
  },
  {
   "cell_type": "code",
   "execution_count": 84,
   "id": "1c9ff3db-5c52-45a1-bf89-ea9a0227e100",
   "metadata": {},
   "outputs": [],
   "source": [
    "def het_tien():\n",
    "    global total_money\n",
    "    if total_money == 0:\n",
    "        while True:\n",
    "            check = int(input(\"Bạn đã hết tiền, có muốn nạp tiền để chơi tiếp? (Nhập '0': không, nhập '1': có): \"))\n",
    "            if check == 0:\n",
    "                return False  # Signal to the main function that the user chose not to continue\n",
    "            elif check == 1:\n",
    "                clear_output(wait=True)  # Assuming you're using Jupyter Notebook for this\n",
    "                nap_tien()\n",
    "                return True  # Signal to the main function that the user chose to continue\n",
    "            else:\n",
    "                print(\"Lựa chọn không hợp lệ, vui lòng nhập lại!\")\n",
    "    return True"
   ]
  },
  {
   "cell_type": "code",
   "execution_count": 98,
   "id": "cb7c63e6-0869-4d48-a3ec-2151d8ae1aca",
   "metadata": {},
   "outputs": [],
   "source": [
    "def main():\n",
    "    global login_status\n",
    "    game_over = False\n",
    "    if login_status == False:\n",
    "        dang_nhap()\n",
    "    while True:\n",
    "        if not game_over:\n",
    "            menu()\n",
    "        choose = int(input(\"Bạn chọn: \"))\n",
    "        match choose:\n",
    "            case 1:\n",
    "                clear_output(wait=True)\n",
    "                while True:\n",
    "                    if not het_tien():\n",
    "                        game_over = True\n",
    "                        break\n",
    "                    num = nhap_so()\n",
    "                    money = nhap_tien(len(num))\n",
    "                    game_quay(num, money)\n",
    "                    play_more = int(input(\"Bạn có muốn chơi tiếp không? (Nhập '0': không, nhập '1': có): \"))\n",
    "                    if play_more == 0 or total_money == 0:\n",
    "                        break\n",
    "                    elif play_more == 1:\n",
    "                        continue\n",
    "                    else:\n",
    "                        print(\"Lựa chọn không hợp lệ, vui lòng nhập lại!\")\n",
    "                clear_output()\n",
    "                main()\n",
    "                break\n",
    "            case 2:\n",
    "                clear_output()\n",
    "                nap_tien()\n",
    "                clear_output(wait=True)\n",
    "                main()\n",
    "                break\n",
    "            case 3:\n",
    "                login_status = False\n",
    "                print(\"Chào bạn, hẹn gặp lại!\")\n",
    "                break\n",
    "            case _:\n",
    "                print(\"Nhập sai lựa chọn, vui lòng nhập lại !\")"
   ]
  },
  {
   "cell_type": "code",
   "execution_count": 101,
   "id": "0588e818-f386-464e-b100-073d6e85a46a",
   "metadata": {},
   "outputs": [
    {
     "name": "stdout",
     "output_type": "stream",
     "text": [
      "CHÀO MỪNG BẠN ĐẾN VỚI GAME LÔ ĐỀ HỌC ONLINE\n",
      "------VUI LÒNG CHỌN CÁC THAO TÁC SAU-------\n",
      "1. Chơi lô\n",
      "2. Nạp tiền\n",
      "3. Đăng xuất\n"
     ]
    },
    {
     "name": "stdin",
     "output_type": "stream",
     "text": [
      "Bạn chọn:  3\n"
     ]
    },
    {
     "name": "stdout",
     "output_type": "stream",
     "text": [
      "Chào bạn, hẹn gặp lại!\n"
     ]
    }
   ],
   "source": [
    "main()"
   ]
  }
 ],
 "metadata": {
  "kernelspec": {
   "display_name": "Python 3 (ipykernel)",
   "language": "python",
   "name": "python3"
  },
  "language_info": {
   "codemirror_mode": {
    "name": "ipython",
    "version": 3
   },
   "file_extension": ".py",
   "mimetype": "text/x-python",
   "name": "python",
   "nbconvert_exporter": "python",
   "pygments_lexer": "ipython3",
   "version": "3.11.7"
  }
 },
 "nbformat": 4,
 "nbformat_minor": 5
}
